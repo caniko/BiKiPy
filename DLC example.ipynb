{
 "cells": [
  {
   "cell_type": "markdown",
   "metadata": {},
   "source": [
    "# Example usage of DeepLabCut -analysis"
   ]
  },
  {
   "cell_type": "markdown",
   "metadata": {},
   "source": [
    "## Extract positions on a video using a trained model\n",
    "\n",
    "Open anaconda prompt and `activate deeplabcut` and navigate to the DeepLabCut folder:\n",
    "\n",
    "`cd Documents\\apps\\DeepLabCut-master\\Analysis-tools`\n",
    "\n",
    "Then you need to set a couple of environment variables:\n",
    "`set TF_CUDNN_USE_AUTOTUNE=0`\n",
    "`set CUDA_VISIBLE_DEVICES=0`\n",
    "\n",
    "Crop the videos using ....\n",
    "\n",
    "Now we are ready to run the DeepLabCut model on the new video.\n",
    "\n",
    "Place all the videos you want to analyse in `DeepLabCut-master/videos`. Check the settings in `DeepLabCut-master/myconfig_analysis.py`.\n",
    "\n",
    "Now run AnalyzeVideos:\n",
    "\n",
    "`python AnalyzeVideos.py`\n",
    "\n",
    "The output labels should be saved in the video as csv files and can be uploaded in Python"
   ]
  }
 ],
 "metadata": {
  "kernelspec": {
   "display_name": "Python 3",
   "language": "python",
   "name": "python3"
  },
  "language_info": {
   "codemirror_mode": {
    "name": "ipython",
    "version": 3
   },
   "file_extension": ".py",
   "mimetype": "text/x-python",
   "name": "python",
   "nbconvert_exporter": "python",
   "pygments_lexer": "ipython3",
   "version": "3.6.5"
  }
 },
 "nbformat": 4,
 "nbformat_minor": 2
}
